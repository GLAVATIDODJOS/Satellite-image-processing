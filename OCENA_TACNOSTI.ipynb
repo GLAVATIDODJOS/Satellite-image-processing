{
  "nbformat": 4,
  "nbformat_minor": 0,
  "metadata": {
    "colab": {
      "provenance": []
    },
    "kernelspec": {
      "name": "python3",
      "display_name": "Python 3"
    },
    "language_info": {
      "name": "python"
    }
  },
  "cells": [
    {
      "cell_type": "code",
      "source": [
        "from google.colab import drive\n",
        "drive.mount('/content/drive')"
      ],
      "metadata": {
        "colab": {
          "base_uri": "https://localhost:8080/"
        },
        "id": "tyOluM1kU0Im",
        "outputId": "56b4060a-12c2-479b-ebc8-2f8b80d3c416"
      },
      "execution_count": null,
      "outputs": [
        {
          "output_type": "stream",
          "name": "stdout",
          "text": [
            "Mounted at /content/drive\n"
          ]
        }
      ]
    },
    {
      "cell_type": "code",
      "source": [
        "import pandas as pd\n",
        "df=pd.read_csv('/content/drive/MyDrive/biosense/rezultati/KM6diff.csv')\n",
        "print(df.head())"
      ],
      "metadata": {
        "colab": {
          "base_uri": "https://localhost:8080/"
        },
        "id": "2aFAUGq-U7eL",
        "outputId": "e1adedab-97ed-43d4-eb5a-b9645460eef9"
      },
      "execution_count": null,
      "outputs": [
        {
          "output_type": "stream",
          "name": "stdout",
          "text": [
            "   Piksel  Cluster  nova_klasa\n",
            "0  580764        3         6.0\n",
            "1  580765        3         6.0\n",
            "2  580766        3         6.0\n",
            "3  580767        3         6.0\n",
            "4  580768        3         6.0\n"
          ]
        }
      ]
    },
    {
      "cell_type": "code",
      "execution_count": null,
      "metadata": {
        "id": "4HlL87_9UvEl",
        "colab": {
          "base_uri": "https://localhost:8080/"
        },
        "outputId": "e87c5c77-9d68-460d-d0d9-e01a7a0c855b"
      },
      "outputs": [
        {
          "output_type": "stream",
          "name": "stdout",
          "text": [
            "Prilagođeni Rand indeks: 0.17743391957390978\n"
          ]
        }
      ],
      "source": [
        "import pandas as pd\n",
        "from sklearn.metrics import adjusted_rand_score\n",
        "\n",
        "# Učitajte CSV datoteku\n",
        "df = pd.read_csv('/content/drive/MyDrive/biosense/rezultati/KM6diff.csv')\n",
        "\n",
        "# Pretpostavljamo da su 'stvarna_klasa' i 'predvidjena_klasa' imena kolona u vašem DataFrame-u\n",
        "y_true = df['nova_klasa']\n",
        "y_pred = df['Cluster']\n",
        "\n",
        "# Izračunajte prilagođeni Rand indeks\n",
        "ari_score = adjusted_rand_score(y_true, y_pred)\n",
        "\n",
        "print(f\"Prilagođeni Rand indeks: {ari_score}\")\n"
      ]
    },
    {
      "cell_type": "code",
      "source": [
        "import pandas as pd\n",
        "from sklearn.metrics import adjusted_rand_score\n",
        "\n",
        "# Učitajte CSV datoteku\n",
        "df1 = pd.read_csv('/content/drive/MyDrive/biosense/rezultati/GMM5diffinal.csv')\n",
        "\n",
        "# Pretpostavljamo da su 'stvarna_klasa' i 'predvidjena_klasa' imena kolona u vašem DataFrame-u\n",
        "y_true1 = df1['nova_klasa']\n",
        "y_pred1 = df1['Cluster']\n",
        "\n",
        "# Izračunajte prilagođeni Rand indeks\n",
        "ari_score = adjusted_rand_score(y_true1, y_pred1)\n",
        "\n",
        "print(f\"Prilagođeni Rand indeks: {ari_score}\")\n"
      ],
      "metadata": {
        "colab": {
          "base_uri": "https://localhost:8080/"
        },
        "id": "JV-7BFTmWFmM",
        "outputId": "be22876c-0e39-4e78-e0ea-c17716211c6d"
      },
      "execution_count": null,
      "outputs": [
        {
          "output_type": "stream",
          "name": "stdout",
          "text": [
            "Prilagođeni Rand indeks: 0.17361639028899814\n"
          ]
        }
      ]
    },
    {
      "cell_type": "code",
      "source": [
        "ARI = (df1['Cluster'] - df1['nova_klasa']) / (max(df1['Cluster']) - df1['nova_klasa'])"
      ],
      "metadata": {
        "id": "Qwod8DnmWGJT"
      },
      "execution_count": null,
      "outputs": []
    },
    {
      "cell_type": "code",
      "source": [
        "print(ARI)"
      ],
      "metadata": {
        "colab": {
          "base_uri": "https://localhost:8080/"
        },
        "id": "QW_caBUlXFcD",
        "outputId": "d656c080-e1a8-4b59-dcc3-54a7d50f972d"
      },
      "execution_count": null,
      "outputs": [
        {
          "output_type": "stream",
          "name": "stdout",
          "text": [
            "0         2.5\n",
            "1         2.5\n",
            "2         2.5\n",
            "3         2.5\n",
            "4         2.5\n",
            "         ... \n",
            "197158   -3.0\n",
            "197159   -3.0\n",
            "197160   -3.0\n",
            "197161   -3.0\n",
            "197162   -3.0\n",
            "Length: 197163, dtype: float64\n"
          ]
        }
      ]
    },
    {
      "cell_type": "code",
      "source": [
        "from sklearn.metrics.cluster import adjusted_rand_score\n"
      ],
      "metadata": {
        "id": "vdaoqeJyXanL"
      },
      "execution_count": null,
      "outputs": []
    },
    {
      "cell_type": "code",
      "source": [
        "from sklearn.metrics import adjusted_rand_score\n",
        "\n",
        "# Pretvorite DataFrame kolone u jednodimenzionalne nizove\n",
        "labels_true = df1['Cluster'].to_numpy()\n",
        "labels_pred = df1['nova_klasa'].to_numpy()\n",
        "\n",
        "# Izračunajte prilagođeni Rand indeks\n",
        "ari_score = adjusted_rand_score(labels_true, labels_pred)\n",
        "\n",
        "print(f\"Prilagođeni Rand indeks: {ari_score}\")\n",
        "\n"
      ],
      "metadata": {
        "colab": {
          "base_uri": "https://localhost:8080/"
        },
        "id": "7qdhvcAHXf8s",
        "outputId": "3ceabe8f-5ece-4b6f-98cd-62cfdf4298c7"
      },
      "execution_count": null,
      "outputs": [
        {
          "output_type": "stream",
          "name": "stdout",
          "text": [
            "Prilagođeni Rand indeks: 0.17361639028899814\n"
          ]
        }
      ]
    },
    {
      "cell_type": "code",
      "source": [
        "import pandas as pd\n",
        "from sklearn.metrics import adjusted_rand_score\n",
        "\n",
        "# Učitajte CSV datoteku\n",
        "df2 = pd.read_csv('/content/drive/MyDrive/biosense/rezultati/KM4diff.csv')\n",
        "\n",
        "# Pretpostavljamo da su 'stvarna_klasa' i 'predvidjena_klasa' imena kolona u vašem DataFrame-u\n",
        "y_true1 = df2['nova_klasa']\n",
        "y_pred1 = df2['Cluster']\n",
        "\n",
        "# Izračunajte prilagođeni Rand indeks\n",
        "ari_score = adjusted_rand_score(y_true1, y_pred1)\n",
        "\n",
        "print(f\"Prilagođeni Rand indeks: {ari_score}\")"
      ],
      "metadata": {
        "colab": {
          "base_uri": "https://localhost:8080/"
        },
        "id": "LtF1egK-YvZj",
        "outputId": "42273d50-4d7d-4a0a-d557-38d04fae7fe1"
      },
      "execution_count": null,
      "outputs": [
        {
          "output_type": "stream",
          "name": "stdout",
          "text": [
            "Prilagođeni Rand indeks: 0.17743391957390978\n"
          ]
        }
      ]
    },
    {
      "cell_type": "code",
      "source": [],
      "metadata": {
        "id": "RIXzAIkHYwWz"
      },
      "execution_count": null,
      "outputs": []
    }
  ]
}